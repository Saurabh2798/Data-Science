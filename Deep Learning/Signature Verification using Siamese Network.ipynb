{
 "cells": [
  {
   "cell_type": "markdown",
   "metadata": {},
   "source": [
    "## Signature verification using Siamese Network -\n",
    "\n",
    "- Siamese network is a class of network architectures, that usually contains two identical subnetworks. The twin CNNs have the same configuration and shared weights. \n",
    "\n",
    "- These subnetworks are joined by a loss function at the top, which computes a similarity metric involving the Euclidean distance between the feature representation on each side of the Siamese network. One such loss function that is mostly used in Siamese network is the 'contrastive loss' used in this implementation.\n",
    "\n",
    "- For a functioning system, a writer dependent system needs to be updated (retrained) with every new writer (signer). For a consumer based system, such as bank, where every day new consumers can open their account this incurs huge cost. Whereas, in writer independent case, a generic system is built to model the discrepancy among the genuine and forged signatures.\n",
    "\n",
    "- For a particular signer, signatures are coupled as similar (genuine, genuine) or dissimilar (genuine, forged) pairs.\n",
    "\n",
    "> For complete reference - https://arxiv.org/pdf/1707.02131.pdf\n",
    "\n",
    "> Siamese network - https://github.com/keras-team/keras/blob/master/examples/mnist_siamese.py"
   ]
  },
  {
   "cell_type": "code",
   "execution_count": 1,
   "metadata": {},
   "outputs": [
    {
     "name": "stderr",
     "output_type": "stream",
     "text": [
      "Using TensorFlow backend.\n"
     ]
    }
   ],
   "source": [
    "import sys\n",
    "import pickle\n",
    "import os\n",
    "import time\n",
    "import itertools\n",
    "import random\n",
    "\n",
    "import numpy as np\n",
    "import matplotlib.pyplot as plt\n",
    "%matplotlib inline\n",
    "import cv2\n",
    "from sklearn.utils import shuffle\n",
    "\n",
    "import tensorflow as tf\n",
    "import warnings\n",
    "warnings.filterwarnings('ignore')\n",
    "\n",
    "from keras.models import Sequential\n",
    "from keras.optimizers import Adam, RMSprop\n",
    "from keras.layers import Conv2D, ZeroPadding2D, Activation, Input, concatenate, Dropout\n",
    "from keras.models import Model\n",
    "from keras.layers.normalization import BatchNormalization\n",
    "from keras.layers.pooling import MaxPooling2D\n",
    "from keras.layers.merge import Concatenate\n",
    "from keras.layers.core import Lambda, Flatten, Dense\n",
    "from keras.initializers import glorot_uniform\n",
    "from keras.engine.topology import Layer\n",
    "from keras.regularizers import l2\n",
    "from keras import backend as K\n",
    "from keras.callbacks import EarlyStopping, ModelCheckpoint, ReduceLROnPlateau"
   ]
  },
  {
   "cell_type": "code",
   "execution_count": 2,
   "metadata": {},
   "outputs": [
    {
     "name": "stdout",
     "output_type": "stream",
     "text": [
      "original - 160, Forged - 160\n"
     ]
    }
   ],
   "source": [
    "# data directory\n",
    "path = \"./data/BHSig260/Hindi/\"\n",
    "\n",
    "# get the list of all directories and sort them\n",
    "dir_list = next(os.walk(path))[1]\n",
    "dir_list.sort()\n",
    "\n",
    "# Seperate the genuine and forged signatures\n",
    "orig_groups, forg_groups = [], []\n",
    "\n",
    "# iterate over all the directories\n",
    "for directory in dir_list:\n",
    "    \n",
    "    # get all the image directories and sort them as well\n",
    "    images = os.listdir(path+directory)\n",
    "    images.sort()\n",
    "    \n",
    "    # get the image_paths for individual images and store them\n",
    "    images = [path+directory+'/'+x for x in images]\n",
    "    \n",
    "    # append first 30 images to forged list\n",
    "    forg_groups.append(images[:30])\n",
    "    \n",
    "    # append the remaining i.e. last 24 or images from 30 onwards to original list\n",
    "    orig_groups.append(images[30:])\n",
    "    \n",
    "# print to check the size now\n",
    "print(f\"original - {len(orig_groups)}, Forged - {len(forg_groups)}\")"
   ]
  },
  {
   "cell_type": "code",
   "execution_count": 3,
   "metadata": {},
   "outputs": [],
   "source": [
    "# Train, test split\n",
    "orig_train, orig_val, orig_test = orig_groups[:120], orig_groups[120:140], orig_groups[140:]\n",
    "forg_train, forg_val, forg_test = forg_groups[:120], forg_groups[120:140], forg_groups[140:]"
   ]
  },
  {
   "cell_type": "code",
   "execution_count": 4,
   "metadata": {},
   "outputs": [],
   "source": [
    "# All the images will be converted to the same size before processing\n",
    "img_h, img_w = 155, 220"
   ]
  },
  {
   "cell_type": "code",
   "execution_count": 5,
   "metadata": {},
   "outputs": [
    {
     "data": {
      "image/png": "[encoded data removed]",
      "text/plain": [
       "<Figure size 720x720 with 2 Axes>"
      ]
     },
     "metadata": {
      "needs_background": "light"
     },
     "output_type": "display_data"
    }
   ],
   "source": [
    "# function that will visualize a random sample (original, forged)\n",
    "def visualize_sample_signature():\n",
    "    \n",
    "    # using subplots\n",
    "    fig, (ax1, ax2) = plt.subplots(1, 2, figsize = (10, 10))\n",
    "    \n",
    "    # pick a random number\n",
    "    k = np.random.randint(len(orig_train))\n",
    "    \n",
    "    # original image\n",
    "    orig_img_name = random.sample(orig_train[k], 1)\n",
    "    \n",
    "    # forged image\n",
    "    forg_img_name = random.sample(forg_train[k], 1)\n",
    "    \n",
    "    # read the original and forged images\n",
    "    orig_img = cv2.imread(orig_img_name[0], 0)\n",
    "    forg_img = plt.imread(forg_img_name[0], 0)\n",
    "    \n",
    "    # resize the images to be of the specified shape\n",
    "    orig_img = cv2.resize(orig_img, (img_w, img_h))\n",
    "    forg_img = cv2.resize(forg_img, (img_w, img_h))\n",
    "\n",
    "    # plot the images\n",
    "    ax1.imshow(orig_img, cmap = 'gray')\n",
    "    ax2.imshow(forg_img, cmap = 'gray')\n",
    "    \n",
    "    # label them\n",
    "    ax1.set_title('Genuine Copy')\n",
    "    ax2.set_title('Forged Copy')\n",
    "    \n",
    "visualize_sample_signature()"
   ]
  },
  {
   "cell_type": "code",
   "execution_count": 6,
   "metadata": {},
   "outputs": [],
   "source": [
    "def generate_batch(orig_groups, forg_groups, batch_size = 32):\n",
    "    '''\n",
    "    params: original, forged sets, batch_size(default = 32)\n",
    "    output: pairs, targets\n",
    "    '''\n",
    "    while True:\n",
    "        orig_pairs = []\n",
    "        forg_pairs = []\n",
    "        gen_gen_labels = []\n",
    "        gen_for_labels = []\n",
    "        all_pairs = []\n",
    "        all_labels = []\n",
    "        \n",
    "        # iterate over and add pairs(original,original) and (original_forged) to resp. lists\n",
    "        for orig, forg in zip(orig_groups, forg_groups):\n",
    "            \n",
    "            # 24 genuine signatures for each of the authors, there are only 24C2 = 276 (genuine, genuine) signature pairs\n",
    "            orig_pairs.extend(list(itertools.combinations(orig, 2)))\n",
    "            \n",
    "            # iterate over the forged images\n",
    "            for i in range(len(forg)):\n",
    "                \n",
    "                # To make Genuine-Forged pairs, we pair every Genuine signature of a person with 12 randomly sampled Forged signatures of the same person.\n",
    "                forg_pairs.extend(list(itertools.product(orig[i:i+1], random.sample(forg, 12))))\n",
    "        \n",
    "        # labels - (genuine,genuine) = 1, (genuine, forged)=0\n",
    "        gen_gen_labels = [1]*len(orig_pairs)\n",
    "        gen_for_labels = [0]*len(forg_pairs)\n",
    "        \n",
    "        # Concatenate all the pairs together along with their labels and shuffle them\n",
    "        all_pairs = orig_pairs + forg_pairs\n",
    "        all_labels = gen_gen_labels + gen_for_labels\n",
    "        all_pairs, all_labels = shuffle(all_pairs, all_labels)\n",
    "        \n",
    "        # counter to keep a count of the batch size    \n",
    "        k = 0\n",
    "        \n",
    "        # the pairs and targets lists that will be returned\n",
    "        pairs=[np.zeros((batch_size, img_h, img_w, 1)) for i in range(2)]\n",
    "        targets=np.zeros((batch_size,))\n",
    "        \n",
    "        # iterate over all pairs\n",
    "        for ix, pair in enumerate(all_pairs):\n",
    "            \n",
    "            # invert images so that the background pixels have 0 values\n",
    "            img1 = cv2.imread(pair[0], 0)\n",
    "            img2 = cv2.imread(pair[1], 0)\n",
    "            \n",
    "            # resize images to the specified shape\n",
    "            img1 = cv2.resize(img1, (img_w, img_h))\n",
    "            img2 = cv2.resize(img2, (img_w, img_h))\n",
    "            \n",
    "            # convert images to numpy array with datatype 'float'\n",
    "            img1 = np.array(img1, dtype = np.float64)\n",
    "            img2 = np.array(img2, dtype = np.float64)\n",
    "            \n",
    "            # normalize the images\n",
    "            img1 /= 255\n",
    "            img2 /= 255\n",
    "            \n",
    "            # equivalent to x[:,:,np.newaxis]\n",
    "            img1 = img1[..., np.newaxis]\n",
    "            img2 = img2[..., np.newaxis]\n",
    "            \n",
    "            \n",
    "            pairs[0][k, :, :, :] = img1\n",
    "            pairs[1][k, :, :, :] = img2\n",
    "            \n",
    "            targets[k] = all_labels[ix]\n",
    "            \n",
    "            k += 1\n",
    "            if k == batch_size:\n",
    "                yield pairs, targets\n",
    "                k = 0\n",
    "                pairs=[np.zeros((batch_size, img_h, img_w, 1)) for i in range(2)]\n",
    "                targets=np.zeros((batch_size,))"
   ]
  },
  {
   "cell_type": "code",
   "execution_count": 7,
   "metadata": {},
   "outputs": [],
   "source": [
    "# helper functions\n",
    "\n",
    "def euclidean_distance(vects):\n",
    "    x, y = vects\n",
    "    return K.sqrt(K.sum(K.square(x - y), axis=1, keepdims=True))\n",
    "\n",
    "def eucl_dist_output_shape(shapes):\n",
    "    shape1, shape2 = shapes\n",
    "    return (shape1[0], 1)\n",
    "\n",
    "def contrastive_loss(y_true, y_pred):\n",
    "    margin = 1\n",
    "    return K.mean(y_true * K.square(y_pred) + (1 - y_true) * K.square(K.maximum(margin - y_pred, 0)))"
   ]
  },
  {
   "cell_type": "code",
   "execution_count": 8,
   "metadata": {},
   "outputs": [],
   "source": [
    "def create_base_network_signet(input_shape):\n",
    "    '''Base Siamese Network'''\n",
    "    \n",
    "    seq = Sequential()\n",
    "    seq.add(Conv2D(96, kernel_size=(11, 11), activation='relu', name='conv1_1', strides=4, input_shape= input_shape, \n",
    "                        init='glorot_uniform', dim_ordering='tf'))\n",
    "    seq.add(BatchNormalization(epsilon=1e-06, mode=0, axis=1, momentum=0.9))\n",
    "    seq.add(MaxPooling2D((3,3), strides=(2, 2)))    \n",
    "    seq.add(ZeroPadding2D((2, 2), dim_ordering='tf'))\n",
    "    \n",
    "    seq.add(Conv2D(256, kernel_size=(5, 5), activation='relu', name='conv2_1', strides=1, init='glorot_uniform',  dim_ordering='tf'))\n",
    "    seq.add(BatchNormalization(epsilon=1e-06, mode=0, axis=1, momentum=0.9))\n",
    "    seq.add(MaxPooling2D((3,3), strides=(2, 2)))\n",
    "    seq.add(Dropout(0.3))# added extra\n",
    "    seq.add(ZeroPadding2D((1, 1), dim_ordering='tf'))\n",
    "    \n",
    "    seq.add(Conv2D(384, kernel_size=(3, 3), activation='relu', name='conv3_1', strides=1, init='glorot_uniform',  dim_ordering='tf'))\n",
    "    seq.add(ZeroPadding2D((1, 1), dim_ordering='tf'))\n",
    "    \n",
    "    seq.add(Conv2D(256, kernel_size=(3, 3), activation='relu', name='conv3_2', strides=1, init='glorot_uniform', dim_ordering='tf'))    \n",
    "    seq.add(MaxPooling2D((3,3), strides=(2, 2)))\n",
    "    seq.add(Dropout(0.3))# added extra\n",
    "    seq.add(Flatten(name='flatten'))\n",
    "    seq.add(Dense(1024, W_regularizer=l2(0.0005), activation='relu', init='glorot_uniform'))\n",
    "    seq.add(Dropout(0.5))\n",
    "    \n",
    "    seq.add(Dense(128, W_regularizer=l2(0.0005), activation='relu', init='glorot_uniform')) # softmax changed to relu\n",
    "    \n",
    "    return seq"
   ]
  },
  {
   "cell_type": "code",
   "execution_count": 9,
   "metadata": {},
   "outputs": [
    {
     "name": "stdout",
     "output_type": "stream",
     "text": [
      "WARNING:tensorflow:From C:\\Users\\Saurabh\\Anaconda3\\lib\\site-packages\\tensorflow\\python\\framework\\op_def_library.py:263: colocate_with (from tensorflow.python.framework.ops) is deprecated and will be removed in a future version.\n",
      "Instructions for updating:\n",
      "Colocations handled automatically by placer.\n",
      "WARNING:tensorflow:From C:\\Users\\Saurabh\\AppData\\Roaming\\Python\\Python36\\site-packages\\keras\\backend\\tensorflow_backend.py:3144: calling dropout (from tensorflow.python.ops.nn_ops) with keep_prob is deprecated and will be removed in a future version.\n",
      "Instructions for updating:\n",
      "Please use `rate` instead of `keep_prob`. Rate should be set to `rate = 1 - keep_prob`.\n"
     ]
    }
   ],
   "source": [
    "# Shape of input image\n",
    "input_shape=(img_h, img_w, 1)\n",
    "\n",
    "# network definition\n",
    "base_network = create_base_network_signet(input_shape)\n",
    "\n",
    "# input layers\n",
    "input_a = Input(shape=(input_shape))\n",
    "input_b = Input(shape=(input_shape))\n",
    "\n",
    "# Re-use the same instance 'base_network'\n",
    "processed_a = base_network(input_a)\n",
    "processed_b = base_network(input_b)\n",
    "\n",
    "# Euclidean distance between the two processed vectors\n",
    "distance = Lambda(euclidean_distance, output_shape=eucl_dist_output_shape)([processed_a, processed_b])\n",
    "\n",
    "# initialise our model with input and output\n",
    "model = Model(input=[input_a, input_b], output=distance)"
   ]
  },
  {
   "cell_type": "code",
   "execution_count": 10,
   "metadata": {},
   "outputs": [
    {
     "name": "stdout",
     "output_type": "stream",
     "text": [
      "num_train_samples: 69120, num_val_samples: 11520, num_test_samples: 11520\n"
     ]
    }
   ],
   "source": [
    "# some global variables\n",
    "batch_sz = 24\n",
    "num_train_samples = 276*120 + 300*120\n",
    "num_val_samples = num_test_samples = 276*20 + 300*20\n",
    "print(f\"num_train_samples: {num_train_samples}, num_val_samples: {num_val_samples}, num_test_samples: {num_test_samples}\")"
   ]
  },
  {
   "cell_type": "code",
   "execution_count": 11,
   "metadata": {},
   "outputs": [],
   "source": [
    "# compile model using RMSProp Optimizer and contrastive loss function\n",
    "rms = RMSprop(lr=1e-4, rho=0.9, epsilon=1e-08)\n",
    "model.compile(loss=contrastive_loss, optimizer=rms)\n",
    "\n",
    "# keras callbacks\n",
    "callbacks = [\n",
    "    \n",
    "    # save the model after every epoch\n",
    "    EarlyStopping(patience=12, verbose=1),\n",
    "    \n",
    "    # Reduce the learning rate by a factor of 0.1 if the validation loss does not improve for 5 epochs\n",
    "    ReduceLROnPlateau(factor=0.1, patience=5, min_lr=0.000001, verbose=1),\n",
    "    \n",
    "    # Stop the training using early stopping if the validation loss does not improve for 12 epochs\n",
    "    ModelCheckpoint('./model/siamese_net_bhsig260-{epoch:02d}.h5', verbose=1, save_weights_only=True)\n",
    "]"
   ]
  },
  {
   "cell_type": "code",
   "execution_count": 12,
   "metadata": {},
   "outputs": [
    {
     "name": "stdout",
     "output_type": "stream",
     "text": [
      "WARNING:tensorflow:From C:\\Users\\Saurabh\\Anaconda3\\lib\\site-packages\\tensorflow\\python\\ops\\math_ops.py:3066: to_int32 (from tensorflow.python.ops.math_ops) is deprecated and will be removed in a future version.\n",
      "Instructions for updating:\n",
      "Use tf.cast instead.\n",
      "Epoch 1/2\n",
      "2880/2880 [==============================] - 1779s 618ms/step - loss: 0.4024 - val_loss: 0.1367\n",
      "\n",
      "Epoch 00001: saving model to ./model/siamese_net_bhsig260-01.h5\n",
      "Epoch 2/2\n",
      "2880/2880 [==============================] - 1728s 600ms/step - loss: 0.0626 - val_loss: 0.1373\n",
      "\n",
      "Epoch 00002: saving model to ./model/siamese_net_bhsig260-02.h5\n"
     ]
    }
   ],
   "source": [
    "# train the model\n",
    "results = model.fit_generator(generate_batch(orig_train, forg_train, batch_sz),\n",
    "                              steps_per_epoch = num_train_samples//batch_sz,\n",
    "                              epochs = 2,\n",
    "                              validation_data = generate_batch(orig_val, forg_val, batch_sz),\n",
    "                              validation_steps = num_val_samples//batch_sz,\n",
    "                              callbacks = callbacks)"
   ]
  },
  {
   "cell_type": "code",
   "execution_count": 13,
   "metadata": {},
   "outputs": [],
   "source": [
    "def compute_accuracy_roc(predictions, labels):\n",
    "    '''\n",
    "    params: predictions, labels\n",
    "    output: maximum accuracy and best threshold\n",
    "    '''\n",
    "    dmax = np.max(predictions)\n",
    "    dmin = np.min(predictions)\n",
    "    nsame = np.sum(labels == 1)\n",
    "    ndiff = np.sum(labels == 0)\n",
    "   \n",
    "    step = 0.01\n",
    "    max_acc = 0\n",
    "    best_thresh = -1\n",
    "   \n",
    "    for d in np.arange(dmin, dmax+step, step):\n",
    "        idx1 = predictions.ravel() <= d\n",
    "        idx2 = predictions.ravel() > d\n",
    "        \n",
    "        # Total positive and negative rate\n",
    "        tpr = float(np.sum(labels[idx1] == 1)) / nsame       \n",
    "        tnr = float(np.sum(labels[idx2] == 0)) / ndiff\n",
    "        \n",
    "        # accuracy\n",
    "        acc = 0.5 * (tpr + tnr)       \n",
    "        \n",
    "        # update max\n",
    "        if (acc > max_acc):\n",
    "            max_acc, best_thresh = acc, d\n",
    "    \n",
    "    # return the accuracy and threshold values\n",
    "    return max_acc, best_thresh"
   ]
  },
  {
   "cell_type": "code",
   "execution_count": 14,
   "metadata": {},
   "outputs": [],
   "source": [
    "# load weights\n",
    "model.load_weights('./model/siamese_net_bhsig260-02.h5')"
   ]
  },
  {
   "cell_type": "code",
   "execution_count": 15,
   "metadata": {},
   "outputs": [
    {
     "data": {
      "text/plain": [
       "(0.8164631683018069, 0.5900045650358515)"
      ]
     },
     "execution_count": 15,
     "metadata": {},
     "output_type": "execute_result"
    }
   ],
   "source": [
    "# predict on test set\n",
    "test_gen = generate_batch(orig_test, forg_test, 1)\n",
    "\n",
    "# the predicted and true labels\n",
    "pred, tr_y = [], []\n",
    "\n",
    "# iterate over the training set\n",
    "for i in range(num_test_samples):\n",
    "    \n",
    "    (img1, img2), label = next(test_gen)\n",
    "    \n",
    "    # append true label to tr_y\n",
    "    tr_y.append(label)\n",
    "    \n",
    "    # append prediction to pred\n",
    "    pred.append(model.predict([img1, img2])[0][0])\n",
    "\n",
    "# compute accuracy and threshold\n",
    "tr_acc, threshold = compute_accuracy_roc(np.array(pred), np.array(tr_y))\n",
    "tr_acc, threshold"
   ]
  },
  {
   "cell_type": "markdown",
   "metadata": {},
   "source": [
    "#### Accuracy = 81.46% and Threshold = 0.59\n",
    "\n",
    ">      Difference < 0.59 - genuine\n",
    ">      Difference > 0.59 - forged"
   ]
  },
  {
   "cell_type": "code",
   "execution_count": 18,
   "metadata": {},
   "outputs": [],
   "source": [
    "def predict_score():\n",
    "    '''\n",
    "    Calculate the distance score and return 'Genuine' or 'Forged' acc to the threshold values\n",
    "    '''\n",
    "    test_point, test_label = next(test_gen)\n",
    "    img1, img2 = test_point[0], test_point[1]\n",
    "    \n",
    "    fig, (ax1, ax2) = plt.subplots(1, 2, figsize = (10, 10))\n",
    "    ax1.imshow(np.squeeze(img1), cmap='gray')\n",
    "    ax2.imshow(np.squeeze(img2), cmap='gray')\n",
    "    ax1.set_title('Genuine')\n",
    "    if test_label == 1:\n",
    "        ax2.set_title('Genuine')\n",
    "    else:\n",
    "        ax2.set_title('Forged')\n",
    "    plt.show()\n",
    "    result = model.predict([img1, img2])\n",
    "    diff = result[0][0]\n",
    "    print(\"Difference Score = \", diff)\n",
    "    if diff > threshold:\n",
    "        print(\"Forged Signature\")\n",
    "    else:\n",
    "        print(\"Genuine Signature\")"
   ]
  },
  {
   "cell_type": "code",
   "execution_count": 21,
   "metadata": {},
   "outputs": [
    {
     "data": {
      "image/png": "[encoded data removed]",
      "text/plain": [
       "<Figure size 720x720 with 2 Axes>"
      ]
     },
     "metadata": {
      "needs_background": "light"
     },
     "output_type": "display_data"
    },
    {
     "name": "stdout",
     "output_type": "stream",
     "text": [
      "Difference Score =  1.397328\n",
      "Forged Signature\n"
     ]
    },
    {
     "data": {
      "image/png": "[encoded data removed]",
      "text/plain": [
       "<Figure size 720x720 with 2 Axes>"
      ]
     },
     "metadata": {
      "needs_background": "light"
     },
     "output_type": "display_data"
    },
    {
     "name": "stdout",
     "output_type": "stream",
     "text": [
      "Difference Score =  0.16206072\n",
      "Genuine Signature\n"
     ]
    },
    {
     "data": {
      "image/png": "[encoded data removed]",
      "text/plain": [
       "<Figure size 720x720 with 2 Axes>"
      ]
     },
     "metadata": {
      "needs_background": "light"
     },
     "output_type": "display_data"
    },
    {
     "name": "stdout",
     "output_type": "stream",
     "text": [
      "Difference Score =  0.13686056\n",
      "Genuine Signature\n"
     ]
    },
    {
     "data": {
      "image/png": "[encoded data removed]",
      "text/plain": [
       "<Figure size 720x720 with 2 Axes>"
      ]
     },
     "metadata": {
      "needs_background": "light"
     },
     "output_type": "display_data"
    },
    {
     "name": "stdout",
     "output_type": "stream",
     "text": [
      "Difference Score =  0.021039236\n",
      "Genuine Signature\n"
     ]
    },
    {
     "data": {
      "image/png": "[encoded data removed]",
      "text/plain": [
       "<Figure size 720x720 with 2 Axes>"
      ]
     },
     "metadata": {
      "needs_background": "light"
     },
     "output_type": "display_data"
    },
    {
     "name": "stdout",
     "output_type": "stream",
     "text": [
      "Difference Score =  0.76249844\n",
      "Forged Signature\n"
     ]
    }
   ],
   "source": [
    "# check 5 results\n",
    "for i in range(5):\n",
    "    predict_score()"
   ]
  },
  {
   "cell_type": "code",
   "execution_count": null,
   "metadata": {},
   "outputs": [],
   "source": []
  }
 ],
 "metadata": {
  "kernelspec": {
   "display_name": "Python 3",
   "language": "python",
   "name": "python3"
  },
  "language_info": {
   "codemirror_mode": {
    "name": "ipython",
    "version": 3
   },
   "file_extension": ".py",
   "mimetype": "text/x-python",
   "name": "python",
   "nbconvert_exporter": "python",
   "pygments_lexer": "ipython3",
   "version": "3.6.8"
  }
 },
 "nbformat": 4,
 "nbformat_minor": 2
}
