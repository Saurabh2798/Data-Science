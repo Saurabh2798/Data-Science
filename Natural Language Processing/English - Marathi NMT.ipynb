{
 "cells": [
  {
   "cell_type": "code",
   "execution_count": 1,
   "metadata": {
    "colab": {
     "base_uri": "https://localhost:8080/",
     "height": 122
    },
    "colab_type": "code",
    "executionInfo": {
     "elapsed": 26819,
     "status": "ok",
     "timestamp": 1571420608165,
     "user": {
      "displayName": "Saurabh Deshmukh",
      "photoUrl": "",
      "userId": "15227258056082329064"
     },
     "user_tz": -330
    },
    "id": "jFpqcqg1iwYu",
    "outputId": "3fde3265-95ee-4d82-8a54-de209c7f87dd"
   },
   "outputs": [
    {
     "name": "stdout",
     "output_type": "stream",
     "text": [
      "Go to this URL in a browser: https://accounts.google.com/o/oauth2/auth?client_id=947318989803-6bn6qk8qdgf4n4g3pfee6491hc0brc4i.apps.googleusercontent.com&redirect_uri=urn%3Aietf%3Awg%3Aoauth%3A2.0%3Aoob&scope=email%20https%3A%2F%2Fwww.googleapis.com%2Fauth%2Fdocs.test%20https%3A%2F%2Fwww.googleapis.com%2Fauth%2Fdrive%20https%3A%2F%2Fwww.googleapis.com%2Fauth%2Fdrive.photos.readonly%20https%3A%2F%2Fwww.googleapis.com%2Fauth%2Fpeopleapi.readonly&response_type=code\n",
      "\n",
      "Enter your authorization code:\n",
      "··········\n",
      "Mounted at /content/gdrive\n"
     ]
    }
   ],
   "source": [
    "# mount drive\n",
    "from google.colab import drive\n",
    "drive.mount('/content/gdrive', force_remount=True)"
   ]
  },
  {
   "cell_type": "code",
   "execution_count": 2,
   "metadata": {
    "colab": {
     "base_uri": "https://localhost:8080/",
     "height": 34
    },
    "colab_type": "code",
    "executionInfo": {
     "elapsed": 875,
     "status": "ok",
     "timestamp": 1571420608169,
     "user": {
      "displayName": "Saurabh Deshmukh",
      "photoUrl": "",
      "userId": "15227258056082329064"
     },
     "user_tz": -330
    },
    "id": "aViyYpQZi69X",
    "outputId": "79b0c1ab-5f5c-4ca1-eaca-832473e1506d"
   },
   "outputs": [
    {
     "name": "stdout",
     "output_type": "stream",
     "text": [
      "/content/gdrive/My Drive\n"
     ]
    }
   ],
   "source": [
    "cd /content/gdrive/My\\ Drive"
   ]
  },
  {
   "cell_type": "code",
   "execution_count": 3,
   "metadata": {
    "colab": {
     "base_uri": "https://localhost:8080/",
     "height": 34
    },
    "colab_type": "code",
    "executionInfo": {
     "elapsed": 1700,
     "status": "ok",
     "timestamp": 1571420609646,
     "user": {
      "displayName": "Saurabh Deshmukh",
      "photoUrl": "",
      "userId": "15227258056082329064"
     },
     "user_tz": -330
    },
    "id": "VMLnVu7pjQrA",
    "outputId": "df5c4d55-ae30-4271-b275-639d7b7db348"
   },
   "outputs": [
    {
     "name": "stdout",
     "output_type": "stream",
     "text": [
      "/content/gdrive/My Drive/English - Marathi NMT\n"
     ]
    }
   ],
   "source": [
    "cd English\\ -\\ Marathi\\ NMT"
   ]
  },
  {
   "cell_type": "code",
   "execution_count": 0,
   "metadata": {
    "colab": {
     "base_uri": "https://localhost:8080/",
     "height": 204
    },
    "colab_type": "code",
    "executionInfo": {
     "elapsed": 5702,
     "status": "ok",
     "timestamp": 1571396878626,
     "user": {
      "displayName": "Saurabh Deshmukh",
      "photoUrl": "",
      "userId": "15227258056082329064"
     },
     "user_tz": -330
    },
    "id": "tcON7nq0jTC3",
    "outputId": "9d067e74-d7c8-4b90-d732-fcbe6ee9a9e6"
   },
   "outputs": [
    {
     "name": "stdout",
     "output_type": "stream",
     "text": [
      "--2019-10-18 11:07:55--  http://www.manythings.org/anki/mar-eng.zip\n",
      "Resolving www.manythings.org (www.manythings.org)... 104.24.109.196, 104.24.108.196, 2606:4700:30::6818:6cc4, ...\n",
      "Connecting to www.manythings.org (www.manythings.org)|104.24.109.196|:80... connected.\n",
      "HTTP request sent, awaiting response... 200 OK\n",
      "Length: 1174128 (1.1M) [application/zip]\n",
      "Saving to: ‘mar-eng.zip’\n",
      "\n",
      "mar-eng.zip         100%[===================>]   1.12M  1.00MB/s    in 1.1s    \n",
      "\n",
      "2019-10-18 11:07:57 (1.00 MB/s) - ‘mar-eng.zip’ saved [1174128/1174128]\n",
      "\n"
     ]
    }
   ],
   "source": [
    "!wget http://www.manythings.org/anki/mar-eng.zip"
   ]
  },
  {
   "cell_type": "code",
   "execution_count": 0,
   "metadata": {
    "colab": {
     "base_uri": "https://localhost:8080/",
     "height": 68
    },
    "colab_type": "code",
    "executionInfo": {
     "elapsed": 5932,
     "status": "ok",
     "timestamp": 1571396899732,
     "user": {
      "displayName": "Saurabh Deshmukh",
      "photoUrl": "",
      "userId": "15227258056082329064"
     },
     "user_tz": -330
    },
    "id": "KO23CER9jWpz",
    "outputId": "e71e16d2-7a15-455a-d09d-9e17e3947a6e"
   },
   "outputs": [
    {
     "name": "stdout",
     "output_type": "stream",
     "text": [
      "Archive:  mar-eng.zip\n",
      "  inflating: mar.txt                 \n",
      "  inflating: _about.txt              \n"
     ]
    }
   ],
   "source": [
    "!unzip mar-eng.zip"
   ]
  },
  {
   "cell_type": "code",
   "execution_count": 4,
   "metadata": {
    "colab": {
     "base_uri": "https://localhost:8080/",
     "height": 34
    },
    "colab_type": "code",
    "executionInfo": {
     "elapsed": 3541,
     "status": "ok",
     "timestamp": 1571420618078,
     "user": {
      "displayName": "Saurabh Deshmukh",
      "photoUrl": "",
      "userId": "15227258056082329064"
     },
     "user_tz": -330
    },
    "id": "WLImGvPajbvu",
    "outputId": "44cf90a4-90ac-43c9-b23a-257a25df0a65"
   },
   "outputs": [
    {
     "name": "stderr",
     "output_type": "stream",
     "text": [
      "Using TensorFlow backend.\n"
     ]
    }
   ],
   "source": [
    "import pandas as pd\n",
    "import numpy as np\n",
    "import string\n",
    "from string import digits\n",
    "import matplotlib.pyplot as plt\n",
    "%matplotlib inline\n",
    "import re\n",
    "from sklearn.utils import shuffle\n",
    "from sklearn.model_selection import train_test_split\n",
    "from keras.layers import Input, LSTM, Embedding, Dense\n",
    "from keras.models import Model"
   ]
  },
  {
   "cell_type": "code",
   "execution_count": 5,
   "metadata": {
    "colab": {
     "base_uri": "https://localhost:8080/",
     "height": 68
    },
    "colab_type": "code",
    "executionInfo": {
     "elapsed": 1762,
     "status": "ok",
     "timestamp": 1571420619868,
     "user": {
      "displayName": "Saurabh Deshmukh",
      "photoUrl": "",
      "userId": "15227258056082329064"
     },
     "user_tz": -330
    },
    "id": "R0wooR6pjxQL",
    "outputId": "5e9cd358-821a-4fa0-8cd8-9a04d4f3eed3"
   },
   "outputs": [
    {
     "name": "stderr",
     "output_type": "stream",
     "text": [
      "/usr/local/lib/python3.6/dist-packages/ipykernel_launcher.py:1: FutureWarning: read_table is deprecated, use read_csv instead, passing sep='\\t'.\n",
      "  \"\"\"Entry point for launching an IPython kernel.\n"
     ]
    },
    {
     "name": "stdout",
     "output_type": "stream",
     "text": [
      "(36503, 3)\n"
     ]
    }
   ],
   "source": [
    "lines= pd.read_table('mar.txt', names=[0,'eng','mar'],index_col=None)\n",
    "print(lines.shape)"
   ]
  },
  {
   "cell_type": "code",
   "execution_count": 6,
   "metadata": {
    "colab": {
     "base_uri": "https://localhost:8080/",
     "height": 204
    },
    "colab_type": "code",
    "executionInfo": {
     "elapsed": 1751,
     "status": "ok",
     "timestamp": 1571420619870,
     "user": {
      "displayName": "Saurabh Deshmukh",
      "photoUrl": "",
      "userId": "15227258056082329064"
     },
     "user_tz": -330
    },
    "id": "d1rfgvwxj4lj",
    "outputId": "400bb102-69f1-4a87-8f46-0b42bf6df417"
   },
   "outputs": [
    {
     "data": {
      "text/html": [
       "<div>\n",
       "<style scoped>\n",
       "    .dataframe tbody tr th:only-of-type {\n",
       "        vertical-align: middle;\n",
       "    }\n",
       "\n",
       "    .dataframe tbody tr th {\n",
       "        vertical-align: top;\n",
       "    }\n",
       "\n",
       "    .dataframe thead th {\n",
       "        text-align: right;\n",
       "    }\n",
       "</style>\n",
       "<table border=\"1\" class=\"dataframe\">\n",
       "  <thead>\n",
       "    <tr style=\"text-align: right;\">\n",
       "      <th></th>\n",
       "      <th>Eng</th>\n",
       "      <th>Mar</th>\n",
       "    </tr>\n",
       "  </thead>\n",
       "  <tbody>\n",
       "    <tr>\n",
       "      <th>0</th>\n",
       "      <td>Go.</td>\n",
       "      <td>जा.</td>\n",
       "    </tr>\n",
       "    <tr>\n",
       "      <th>1</th>\n",
       "      <td>Run!</td>\n",
       "      <td>पळ!</td>\n",
       "    </tr>\n",
       "    <tr>\n",
       "      <th>2</th>\n",
       "      <td>Run!</td>\n",
       "      <td>धाव!</td>\n",
       "    </tr>\n",
       "    <tr>\n",
       "      <th>3</th>\n",
       "      <td>Run!</td>\n",
       "      <td>पळा!</td>\n",
       "    </tr>\n",
       "    <tr>\n",
       "      <th>4</th>\n",
       "      <td>Run!</td>\n",
       "      <td>धावा!</td>\n",
       "    </tr>\n",
       "  </tbody>\n",
       "</table>\n",
       "</div>"
      ],
      "text/plain": [
       "    Eng    Mar\n",
       "0   Go.    जा.\n",
       "1  Run!    पळ!\n",
       "2  Run!   धाव!\n",
       "3  Run!   पळा!\n",
       "4  Run!  धावा!"
      ]
     },
     "execution_count": 6,
     "metadata": {
      "tags": []
     },
     "output_type": "execute_result"
    }
   ],
   "source": [
    "lines[\"Eng\"] = lines[0]\n",
    "lines[\"Mar\"] = lines[\"eng\"]\n",
    "lines = lines[[\"Eng\",\"Mar\"]]\n",
    "lines.head()"
   ]
  },
  {
   "cell_type": "code",
   "execution_count": 7,
   "metadata": {
    "colab": {
     "base_uri": "https://localhost:8080/",
     "height": 34
    },
    "colab_type": "code",
    "executionInfo": {
     "elapsed": 2786,
     "status": "ok",
     "timestamp": 1571420621779,
     "user": {
      "displayName": "Saurabh Deshmukh",
      "photoUrl": "",
      "userId": "15227258056082329064"
     },
     "user_tz": -330
    },
    "id": "C2ZX4hJOkvok",
    "outputId": "565e474b-0ae9-4cdd-f0da-af37692359db"
   },
   "outputs": [
    {
     "name": "stdout",
     "output_type": "stream",
     "text": [
      "(36503, 2)\n"
     ]
    }
   ],
   "source": [
    "print(lines.shape)"
   ]
  },
  {
   "cell_type": "markdown",
   "metadata": {
    "colab_type": "text",
    "id": "WyoCiaurk6k7"
   },
   "source": [
    "### Data Cleaning"
   ]
  },
  {
   "cell_type": "code",
   "execution_count": 0,
   "metadata": {
    "colab": {},
    "colab_type": "code",
    "id": "s6N_vNvuk1qN"
   },
   "outputs": [],
   "source": [
    "def clean_data(data):\n",
    "  \"\"\"\n",
    "  This function cleans text by removing quotes, punctuations, extra spaces, numbers and lowercasing it\n",
    "  \"\"\"\n",
    "  \n",
    "  # lowercase\n",
    "  data[\"Eng\"] = data[\"Eng\"].apply(lambda x:x.lower())\n",
    "  data[\"Mar\"] = data[\"Mar\"].apply(lambda x:x.lower())\n",
    "\n",
    "  # remove quotes\n",
    "  data[\"Eng\"] = data[\"Eng\"].apply(lambda x: re.sub(\"'\", '', x))\n",
    "  data[\"Mar\"] = data[\"Mar\"].apply(lambda x: re.sub(\"'\", '', x))\n",
    "\n",
    "  # remove all punctuations\n",
    "  punctuations = set(string.punctuation)\n",
    "  data[\"Eng\"] = data[\"Eng\"].apply(lambda x: ''.join(val for val in x if val not in punctuations))\n",
    "  data[\"Mar\"] = data[\"Mar\"].apply(lambda x: ''.join(val for val in x if val not in punctuations))\n",
    "\n",
    "  # remove extra spaces\n",
    "  data[\"Eng\"] = data[\"Eng\"].apply(lambda x: x.strip())\n",
    "  data[\"Mar\"] = data[\"Mar\"].apply(lambda x: x.strip())\n",
    "  \n",
    "  # exclude numbers\n",
    "  data[\"Eng\"] = data[\"Eng\"].apply(lambda x: re.sub(\"[0123456789]\",\"\",x))\n",
    "  data[\"Mar\"] = data[\"Mar\"].apply(lambda x: re.sub(\"[२३०८१५७९४६]\",\"\",x))\n",
    "\n",
    "  # Add start and end tokens to target sequences\n",
    "  data[\"Mar\"] = data[\"Mar\"].apply(lambda x : 'START_ '+ x + ' _END')\n",
    "\n",
    "  return data"
   ]
  },
  {
   "cell_type": "code",
   "execution_count": 9,
   "metadata": {
    "colab": {
     "base_uri": "https://localhost:8080/",
     "height": 204
    },
    "colab_type": "code",
    "executionInfo": {
     "elapsed": 2640,
     "status": "ok",
     "timestamp": 1571420625961,
     "user": {
      "displayName": "Saurabh Deshmukh",
      "photoUrl": "",
      "userId": "15227258056082329064"
     },
     "user_tz": -330
    },
    "id": "6CDJB4G7n_6j",
    "outputId": "021b09f6-3457-417c-83f1-555ca8ab14a4"
   },
   "outputs": [
    {
     "data": {
      "text/html": [
       "<div>\n",
       "<style scoped>\n",
       "    .dataframe tbody tr th:only-of-type {\n",
       "        vertical-align: middle;\n",
       "    }\n",
       "\n",
       "    .dataframe tbody tr th {\n",
       "        vertical-align: top;\n",
       "    }\n",
       "\n",
       "    .dataframe thead th {\n",
       "        text-align: right;\n",
       "    }\n",
       "</style>\n",
       "<table border=\"1\" class=\"dataframe\">\n",
       "  <thead>\n",
       "    <tr style=\"text-align: right;\">\n",
       "      <th></th>\n",
       "      <th>Eng</th>\n",
       "      <th>Mar</th>\n",
       "    </tr>\n",
       "  </thead>\n",
       "  <tbody>\n",
       "    <tr>\n",
       "      <th>18783</th>\n",
       "      <td>tom isnt alone in this</td>\n",
       "      <td>START_ टॉम यात एकटा नाहीये _END</td>\n",
       "    </tr>\n",
       "    <tr>\n",
       "      <th>540</th>\n",
       "      <td>i see them</td>\n",
       "      <td>START_ मी त्यांना बघते _END</td>\n",
       "    </tr>\n",
       "    <tr>\n",
       "      <th>1178</th>\n",
       "      <td>where is he</td>\n",
       "      <td>START_ कुठे आहेत ते _END</td>\n",
       "    </tr>\n",
       "    <tr>\n",
       "      <th>18899</th>\n",
       "      <td>we bought a round table</td>\n",
       "      <td>START_ आम्ही एक गोलाकार टेबल विकत घेतलं _END</td>\n",
       "    </tr>\n",
       "    <tr>\n",
       "      <th>29371</th>\n",
       "      <td>i dont know anything about this</td>\n",
       "      <td>START_ मला याबद्दल काहीही माहीत नाही _END</td>\n",
       "    </tr>\n",
       "  </tbody>\n",
       "</table>\n",
       "</div>"
      ],
      "text/plain": [
       "                                   Eng                                           Mar\n",
       "18783           tom isnt alone in this               START_ टॉम यात एकटा नाहीये _END\n",
       "540                         i see them                   START_ मी त्यांना बघते _END\n",
       "1178                       where is he                      START_ कुठे आहेत ते _END\n",
       "18899          we bought a round table  START_ आम्ही एक गोलाकार टेबल विकत घेतलं _END\n",
       "29371  i dont know anything about this     START_ मला याबद्दल काहीही माहीत नाही _END"
      ]
     },
     "execution_count": 9,
     "metadata": {
      "tags": []
     },
     "output_type": "execute_result"
    }
   ],
   "source": [
    "lines = clean_data(lines)\n",
    "lines.sample(5)"
   ]
  },
  {
   "cell_type": "markdown",
   "metadata": {
    "colab_type": "text",
    "id": "khKvrw1Eocrc"
   },
   "source": [
    "### Create vocabulary for both English and Marathi words"
   ]
  },
  {
   "cell_type": "code",
   "execution_count": 0,
   "metadata": {
    "colab": {},
    "colab_type": "code",
    "id": "5gjho97BoSrg"
   },
   "outputs": [],
   "source": [
    "def create_vocab(data):\n",
    "  \"\"\"\n",
    "  creates a vocab for english and marathi words\n",
    "  \"\"\"\n",
    "\n",
    "  # Vocabulary of English words\n",
    "  all_eng_words=set()\n",
    "  for sentence_eng in data[\"Eng\"]:\n",
    "      for word in sentence_eng.split():\n",
    "          if word not in all_eng_words:\n",
    "              all_eng_words.add(word)\n",
    "\n",
    "  # Vocabulary of Marathi words\n",
    "  all_marathi_words=set()\n",
    "  for sentence_mar in data[\"Mar\"]:\n",
    "      for word in sentence_mar.split():\n",
    "          if word not in all_marathi_words:\n",
    "              all_marathi_words.add(word)\n",
    "\n",
    "  return all_eng_words, all_marathi_words"
   ]
  },
  {
   "cell_type": "code",
   "execution_count": 11,
   "metadata": {
    "colab": {
     "base_uri": "https://localhost:8080/",
     "height": 51
    },
    "colab_type": "code",
    "executionInfo": {
     "elapsed": 1874,
     "status": "ok",
     "timestamp": 1571420630497,
     "user": {
      "displayName": "Saurabh Deshmukh",
      "photoUrl": "",
      "userId": "15227258056082329064"
     },
     "user_tz": -330
    },
    "id": "49sWG4Vhpnqx",
    "outputId": "c4c70142-36d5-4a03-b5cd-dc1a6ad815bc"
   },
   "outputs": [
    {
     "name": "stdout",
     "output_type": "stream",
     "text": [
      "Size of vocab_eng = 5487\n",
      "Size of vocab_mar = 13061\n"
     ]
    }
   ],
   "source": [
    "vocab_eng, vocab_mar = create_vocab(lines)\n",
    "print(f\"Size of vocab_eng = {len(vocab_eng)}\")\n",
    "print(f\"Size of vocab_mar = {len(vocab_mar)}\")"
   ]
  },
  {
   "cell_type": "markdown",
   "metadata": {
    "colab_type": "text",
    "id": "3oQoBkbGraYV"
   },
   "source": [
    "### Max sequence lengths"
   ]
  },
  {
   "cell_type": "code",
   "execution_count": 12,
   "metadata": {
    "colab": {
     "base_uri": "https://localhost:8080/",
     "height": 34
    },
    "colab_type": "code",
    "executionInfo": {
     "elapsed": 1668,
     "status": "ok",
     "timestamp": 1571420631773,
     "user": {
      "displayName": "Saurabh Deshmukh",
      "photoUrl": "",
      "userId": "15227258056082329064"
     },
     "user_tz": -330
    },
    "id": "1VfLI7-Qp2p6",
    "outputId": "b52d9ca0-54a8-4b74-9f1f-e8289546d136"
   },
   "outputs": [
    {
     "data": {
      "text/plain": [
       "35"
      ]
     },
     "execution_count": 12,
     "metadata": {
      "tags": []
     },
     "output_type": "execute_result"
    }
   ],
   "source": [
    "lengths_eng = [len(line.split(' ')) for line in lines[\"Eng\"]]\n",
    "max_len_eng = np.max(lengths_eng)\n",
    "max_len_eng"
   ]
  },
  {
   "cell_type": "code",
   "execution_count": 13,
   "metadata": {
    "colab": {
     "base_uri": "https://localhost:8080/",
     "height": 34
    },
    "colab_type": "code",
    "executionInfo": {
     "elapsed": 1955,
     "status": "ok",
     "timestamp": 1571420633870,
     "user": {
      "displayName": "Saurabh Deshmukh",
      "photoUrl": "",
      "userId": "15227258056082329064"
     },
     "user_tz": -330
    },
    "id": "6BKnBGBNqQ-q",
    "outputId": "8f0988b8-cf11-4b7e-d6ab-7d8b01ec7865"
   },
   "outputs": [
    {
     "data": {
      "text/plain": [
       "37"
      ]
     },
     "execution_count": 13,
     "metadata": {
      "tags": []
     },
     "output_type": "execute_result"
    }
   ],
   "source": [
    "lengths_mar = [len(line.split(' ')) for line in lines[\"Mar\"]]\n",
    "max_len_mar = np.max(lengths_mar)\n",
    "max_len_mar"
   ]
  },
  {
   "cell_type": "code",
   "execution_count": 14,
   "metadata": {
    "colab": {
     "base_uri": "https://localhost:8080/",
     "height": 51
    },
    "colab_type": "code",
    "executionInfo": {
     "elapsed": 1658,
     "status": "ok",
     "timestamp": 1571420633871,
     "user": {
      "displayName": "Saurabh Deshmukh",
      "photoUrl": "",
      "userId": "15227258056082329064"
     },
     "user_tz": -330
    },
    "id": "F9p-MgmrrJhp",
    "outputId": "f857aaf3-69e1-47da-e6ef-937a130d0d3d"
   },
   "outputs": [
    {
     "name": "stdout",
     "output_type": "stream",
     "text": [
      "5487 13061\n",
      "13062\n"
     ]
    }
   ],
   "source": [
    "input_words = sorted(list(vocab_eng))\n",
    "target_words = sorted(list(vocab_mar))\n",
    "num_encoder_tokens = len(vocab_eng)\n",
    "num_decoder_tokens = len(vocab_mar)\n",
    "print(num_encoder_tokens, num_decoder_tokens)\n",
    "\n",
    "num_decoder_tokens += 1 # For zero padding\n",
    "print(num_decoder_tokens)"
   ]
  },
  {
   "cell_type": "code",
   "execution_count": 0,
   "metadata": {
    "colab": {},
    "colab_type": "code",
    "id": "c9tfVuZ2sYxy"
   },
   "outputs": [],
   "source": [
    "\n",
    "input_token_index = dict([(word, i+1) for i, word in enumerate(input_words)])\n",
    "target_token_index = dict([(word, i+1) for i, word in enumerate(target_words)])\n",
    "\n",
    "reverse_input_word_index = dict((i, word) for word, i in input_token_index.items())\n",
    "reverse_target_word_index = dict((i, word) for word, i in target_token_index.items())"
   ]
  },
  {
   "cell_type": "code",
   "execution_count": 0,
   "metadata": {
    "colab": {},
    "colab_type": "code",
    "id": "nZsBDIwotEgg"
   },
   "outputs": [],
   "source": [
    "lines = shuffle(lines)"
   ]
  },
  {
   "cell_type": "code",
   "execution_count": 0,
   "metadata": {
    "colab": {},
    "colab_type": "code",
    "id": "HaqkNmOxsqyT"
   },
   "outputs": [],
   "source": [
    "# Train - Test Split\n",
    "X, y = lines[\"Eng\"], lines[\"Mar\"]\n",
    "X_train, X_test, y_train, y_test = train_test_split(X, y, test_size = 0.1)"
   ]
  },
  {
   "cell_type": "code",
   "execution_count": 0,
   "metadata": {
    "colab": {},
    "colab_type": "code",
    "id": "JPW9EYESs9oY"
   },
   "outputs": [],
   "source": [
    "X_train.to_pickle('X_train.pkl')\n",
    "X_test.to_pickle('X_test.pkl')"
   ]
  },
  {
   "cell_type": "code",
   "execution_count": 0,
   "metadata": {
    "colab": {},
    "colab_type": "code",
    "id": "gJmHt2ZytNif"
   },
   "outputs": [],
   "source": [
    "def generate_batch(X = X_train, y = y_train, batch_size = 128):\n",
    "    ''' Generate a batch of data '''\n",
    "\n",
    "    while True:\n",
    "        for j in range(0, len(X), batch_size):\n",
    "            encoder_input_data = np.zeros((batch_size, max_len_eng),dtype='float32')\n",
    "            decoder_input_data = np.zeros((batch_size, max_len_mar),dtype='float32')\n",
    "            decoder_target_data = np.zeros((batch_size, max_len_mar, num_decoder_tokens),dtype='float32')\n",
    "            for i, (input_text, target_text) in enumerate(zip(X[j:j+batch_size], y[j:j+batch_size])):\n",
    "                for t, word in enumerate(input_text.split()):\n",
    "                    encoder_input_data[i, t] = input_token_index[word] # encoder input seq\n",
    "                for t, word in enumerate(target_text.split()):\n",
    "                    if t<len(target_text.split())-1:\n",
    "                        decoder_input_data[i, t] = target_token_index[word] # decoder input seq\n",
    "                    if t>0:\n",
    "                        decoder_target_data[i, t - 1, target_token_index[word]] = 1.\n",
    "            yield([encoder_input_data, decoder_input_data], decoder_target_data)"
   ]
  },
  {
   "cell_type": "markdown",
   "metadata": {
    "colab_type": "text",
    "id": "8CRHZzchtvUR"
   },
   "source": [
    "### Encoder decoder architecture"
   ]
  },
  {
   "cell_type": "code",
   "execution_count": 21,
   "metadata": {
    "colab": {
     "base_uri": "https://localhost:8080/",
     "height": 666
    },
    "colab_type": "code",
    "executionInfo": {
     "elapsed": 2012,
     "status": "ok",
     "timestamp": 1571420802960,
     "user": {
      "displayName": "Saurabh Deshmukh",
      "photoUrl": "",
      "userId": "15227258056082329064"
     },
     "user_tz": -330
    },
    "id": "r07ZVRhsttR9",
    "outputId": "16e1b1f6-73b2-4079-df86-582d36ec2f62"
   },
   "outputs": [
    {
     "name": "stdout",
     "output_type": "stream",
     "text": [
      "WARNING:tensorflow:From /usr/local/lib/python3.6/dist-packages/keras/backend/tensorflow_backend.py:66: The name tf.get_default_graph is deprecated. Please use tf.compat.v1.get_default_graph instead.\n",
      "\n",
      "WARNING:tensorflow:From /usr/local/lib/python3.6/dist-packages/keras/backend/tensorflow_backend.py:541: The name tf.placeholder is deprecated. Please use tf.compat.v1.placeholder instead.\n",
      "\n",
      "WARNING:tensorflow:From /usr/local/lib/python3.6/dist-packages/keras/backend/tensorflow_backend.py:4432: The name tf.random_uniform is deprecated. Please use tf.random.uniform instead.\n",
      "\n",
      "WARNING:tensorflow:From /usr/local/lib/python3.6/dist-packages/keras/backend/tensorflow_backend.py:3239: where (from tensorflow.python.ops.array_ops) is deprecated and will be removed in a future version.\n",
      "Instructions for updating:\n",
      "Use tf.where in 2.0, which has the same broadcast rule as np.where\n",
      "WARNING:tensorflow:From /usr/local/lib/python3.6/dist-packages/keras/optimizers.py:793: The name tf.train.Optimizer is deprecated. Please use tf.compat.v1.train.Optimizer instead.\n",
      "\n",
      "WARNING:tensorflow:From /usr/local/lib/python3.6/dist-packages/keras/backend/tensorflow_backend.py:3576: The name tf.log is deprecated. Please use tf.math.log instead.\n",
      "\n",
      "Model: \"model_1\"\n",
      "__________________________________________________________________________________________________\n",
      "Layer (type)                    Output Shape         Param #     Connected to                     \n",
      "==================================================================================================\n",
      "input_1 (InputLayer)            (None, None)         0                                            \n",
      "__________________________________________________________________________________________________\n",
      "input_2 (InputLayer)            (None, None)         0                                            \n",
      "__________________________________________________________________________________________________\n",
      "embedding_1 (Embedding)         (None, None, 50)     274350      input_1[0][0]                    \n",
      "__________________________________________________________________________________________________\n",
      "embedding_2 (Embedding)         (None, None, 50)     653100      input_2[0][0]                    \n",
      "__________________________________________________________________________________________________\n",
      "lstm_1 (LSTM)                   [(None, 50), (None,  20200       embedding_1[0][0]                \n",
      "__________________________________________________________________________________________________\n",
      "lstm_2 (LSTM)                   [(None, None, 50), ( 20200       embedding_2[0][0]                \n",
      "                                                                 lstm_1[0][1]                     \n",
      "                                                                 lstm_1[0][2]                     \n",
      "__________________________________________________________________________________________________\n",
      "dense_1 (Dense)                 (None, None, 13062)  666162      lstm_2[0][0]                     \n",
      "==================================================================================================\n",
      "Total params: 1,634,012\n",
      "Trainable params: 1,634,012\n",
      "Non-trainable params: 0\n",
      "__________________________________________________________________________________________________\n"
     ]
    }
   ],
   "source": [
    "latent_dim = 50\n",
    "\n",
    "# Encoder\n",
    "encoder_inputs = Input(shape=(None,))\n",
    "enc_emb =  Embedding(num_encoder_tokens, latent_dim, mask_zero = True)(encoder_inputs)\n",
    "encoder_lstm = LSTM(latent_dim, return_state=True)\n",
    "encoder_outputs, state_h, state_c = encoder_lstm(enc_emb)\n",
    "# We discard `encoder_outputs` and only keep the states.\n",
    "encoder_states = [state_h, state_c]\n",
    "\n",
    "# Set up the decoder, using `encoder_states` as initial state.\n",
    "decoder_inputs = Input(shape=(None,))\n",
    "dec_emb_layer = Embedding(num_decoder_tokens, latent_dim, mask_zero = True)\n",
    "dec_emb = dec_emb_layer(decoder_inputs)\n",
    "# We set up our decoder to return full output sequences,\n",
    "# and to return internal states as well. We don't use the\n",
    "# return states in the training model, but we will use them in inference.\n",
    "decoder_lstm = LSTM(latent_dim, return_sequences=True, return_state=True)\n",
    "decoder_outputs, _, _ = decoder_lstm(dec_emb,\n",
    "                                     initial_state=encoder_states)\n",
    "decoder_dense = Dense(num_decoder_tokens, activation='softmax')\n",
    "decoder_outputs = decoder_dense(decoder_outputs)\n",
    "\n",
    "# Define the model that will turn\n",
    "# `encoder_input_data` & `decoder_input_data` into `decoder_target_data`\n",
    "model = Model([encoder_inputs, decoder_inputs], decoder_outputs)\n",
    "\n",
    "model.compile(optimizer='rmsprop', loss='categorical_crossentropy', metrics=['acc'])\n",
    "\n",
    "model.summary()"
   ]
  },
  {
   "cell_type": "code",
   "execution_count": 0,
   "metadata": {
    "colab": {
     "base_uri": "https://localhost:8080/",
     "height": 1000
    },
    "colab_type": "code",
    "executionInfo": {
     "elapsed": 35086,
     "status": "ok",
     "timestamp": 1571411817051,
     "user": {
      "displayName": "Saurabh Deshmukh",
      "photoUrl": "",
      "userId": "15227258056082329064"
     },
     "user_tz": -330
    },
    "id": "844yZnucuFDy",
    "outputId": "f0c5b2d7-7360-4fe5-8d92-e01defe6ea21"
   },
   "outputs": [
    {
     "name": "stdout",
     "output_type": "stream",
     "text": [
      "Epoch 1/100\n",
      "256/256 [==============================] - 119s 464ms/step - loss: 6.4817 - acc: 0.1781 - val_loss: 5.8395 - val_acc: 0.1934\n",
      "Epoch 2/100\n",
      "256/256 [==============================] - 115s 448ms/step - loss: 5.6149 - acc: 0.2040 - val_loss: 5.5301 - val_acc: 0.2115\n",
      "Epoch 3/100\n",
      "256/256 [==============================] - 115s 448ms/step - loss: 5.2992 - acc: 0.2327 - val_loss: 5.2725 - val_acc: 0.2503\n",
      "Epoch 4/100\n",
      "256/256 [==============================] - 115s 447ms/step - loss: 5.0796 - acc: 0.2587 - val_loss: 5.1090 - val_acc: 0.2680\n",
      "Epoch 5/100\n",
      "256/256 [==============================] - 114s 446ms/step - loss: 4.8995 - acc: 0.2743 - val_loss: 4.9717 - val_acc: 0.2805\n",
      "Epoch 6/100\n",
      "256/256 [==============================] - 114s 446ms/step - loss: 4.7365 - acc: 0.2911 - val_loss: 4.8461 - val_acc: 0.2988\n",
      "Epoch 7/100\n",
      "256/256 [==============================] - 114s 446ms/step - loss: 4.5777 - acc: 0.3104 - val_loss: 4.7125 - val_acc: 0.3140\n",
      "Epoch 8/100\n",
      "256/256 [==============================] - 114s 446ms/step - loss: 4.4309 - acc: 0.3284 - val_loss: 4.5910 - val_acc: 0.3351\n",
      "Epoch 9/100\n",
      "256/256 [==============================] - 114s 447ms/step - loss: 4.2921 - acc: 0.3457 - val_loss: 4.4918 - val_acc: 0.3483\n",
      "Epoch 10/100\n",
      "256/256 [==============================] - 114s 447ms/step - loss: 4.1632 - acc: 0.3609 - val_loss: 4.3968 - val_acc: 0.3611\n",
      "Epoch 11/100\n",
      "256/256 [==============================] - 114s 447ms/step - loss: 4.0434 - acc: 0.3759 - val_loss: 4.3068 - val_acc: 0.3702\n",
      "Epoch 12/100\n",
      "256/256 [==============================] - 115s 448ms/step - loss: 3.9316 - acc: 0.3893 - val_loss: 4.2245 - val_acc: 0.3832\n",
      "Epoch 13/100\n",
      "256/256 [==============================] - 114s 445ms/step - loss: 3.8274 - acc: 0.4026 - val_loss: 4.1518 - val_acc: 0.3909\n",
      "Epoch 14/100\n",
      "256/256 [==============================] - 114s 447ms/step - loss: 3.7314 - acc: 0.4149 - val_loss: 4.0815 - val_acc: 0.4016\n",
      "Epoch 15/100\n",
      "256/256 [==============================] - 114s 446ms/step - loss: 3.6383 - acc: 0.4269 - val_loss: 4.0124 - val_acc: 0.4117\n",
      "Epoch 16/100\n",
      "256/256 [==============================] - 114s 445ms/step - loss: 3.5503 - acc: 0.4387 - val_loss: 3.9635 - val_acc: 0.4167\n",
      "Epoch 17/100\n",
      "256/256 [==============================] - 114s 446ms/step - loss: 3.4692 - acc: 0.4492 - val_loss: 3.9152 - val_acc: 0.4240\n",
      "Epoch 18/100\n",
      "256/256 [==============================] - 114s 447ms/step - loss: 3.3931 - acc: 0.4604 - val_loss: 3.8678 - val_acc: 0.4309\n",
      "Epoch 19/100\n",
      "256/256 [==============================] - 114s 446ms/step - loss: 3.3249 - acc: 0.4704 - val_loss: 3.8248 - val_acc: 0.4362\n",
      "Epoch 20/100\n",
      "256/256 [==============================] - 114s 445ms/step - loss: 3.2623 - acc: 0.4791 - val_loss: 3.7739 - val_acc: 0.4405\n",
      "Epoch 21/100\n",
      "256/256 [==============================] - 114s 446ms/step - loss: 3.2016 - acc: 0.4884 - val_loss: 3.7466 - val_acc: 0.4469\n",
      "Epoch 22/100\n",
      "256/256 [==============================] - 115s 448ms/step - loss: 3.1446 - acc: 0.4973 - val_loss: 3.7366 - val_acc: 0.4512\n",
      "Epoch 23/100\n",
      "256/256 [==============================] - 115s 448ms/step - loss: 3.0892 - acc: 0.5064 - val_loss: 3.6798 - val_acc: 0.4590\n",
      "Epoch 24/100\n",
      "256/256 [==============================] - 114s 446ms/step - loss: 3.0369 - acc: 0.5142 - val_loss: 3.6584 - val_acc: 0.4620\n",
      "Epoch 25/100\n",
      "256/256 [==============================] - 114s 446ms/step - loss: 2.9878 - acc: 0.5221 - val_loss: 3.6254 - val_acc: 0.4658\n",
      "Epoch 26/100\n",
      "256/256 [==============================] - 114s 446ms/step - loss: 2.9398 - acc: 0.5302 - val_loss: 3.5859 - val_acc: 0.4697\n",
      "Epoch 27/100\n",
      "256/256 [==============================] - 114s 446ms/step - loss: 2.8937 - acc: 0.5380 - val_loss: 3.5796 - val_acc: 0.4729\n",
      "Epoch 28/100\n",
      "256/256 [==============================] - 114s 447ms/step - loss: 2.8483 - acc: 0.5446 - val_loss: 3.5592 - val_acc: 0.4779\n",
      "Epoch 29/100\n",
      "256/256 [==============================] - 114s 446ms/step - loss: 2.8016 - acc: 0.5519 - val_loss: 3.5065 - val_acc: 0.4834\n",
      "Epoch 30/100\n",
      "256/256 [==============================] - 114s 447ms/step - loss: 2.7564 - acc: 0.5590 - val_loss: 3.4736 - val_acc: 0.4869\n",
      "Epoch 31/100\n",
      "256/256 [==============================] - 114s 446ms/step - loss: 2.7147 - acc: 0.5658 - val_loss: 3.4609 - val_acc: 0.4908\n",
      "Epoch 32/100\n",
      "256/256 [==============================] - 114s 446ms/step - loss: 2.6779 - acc: 0.5719 - val_loss: 3.4410 - val_acc: 0.4936\n",
      "Epoch 33/100\n",
      "256/256 [==============================] - 114s 446ms/step - loss: 2.6430 - acc: 0.5778 - val_loss: 3.4174 - val_acc: 0.4984\n",
      "Epoch 34/100\n",
      "256/256 [==============================] - 115s 448ms/step - loss: 2.6101 - acc: 0.5834 - val_loss: 3.4113 - val_acc: 0.4977\n",
      "Epoch 35/100\n",
      "256/256 [==============================] - 114s 447ms/step - loss: 2.5809 - acc: 0.5891 - val_loss: 3.4065 - val_acc: 0.5005\n",
      "Epoch 36/100\n",
      "256/256 [==============================] - 115s 447ms/step - loss: 2.5530 - acc: 0.5943 - val_loss: 3.3842 - val_acc: 0.5033\n",
      "Epoch 37/100\n",
      "256/256 [==============================] - 114s 446ms/step - loss: 2.5279 - acc: 0.5992 - val_loss: 3.3888 - val_acc: 0.5057\n",
      "Epoch 38/100\n",
      "256/256 [==============================] - 114s 447ms/step - loss: 2.5055 - acc: 0.6043 - val_loss: 3.3672 - val_acc: 0.5102\n",
      "Epoch 39/100\n",
      "256/256 [==============================] - 114s 447ms/step - loss: 2.4817 - acc: 0.6094 - val_loss: 3.3805 - val_acc: 0.5117\n",
      "Epoch 40/100\n",
      "256/256 [==============================] - 114s 447ms/step - loss: 2.4612 - acc: 0.6134 - val_loss: 3.3743 - val_acc: 0.5098\n",
      "Epoch 41/100\n",
      "256/256 [==============================] - 115s 449ms/step - loss: 2.4406 - acc: 0.6182 - val_loss: 3.3481 - val_acc: 0.5151\n",
      "Epoch 42/100\n",
      "256/256 [==============================] - 115s 448ms/step - loss: 2.4226 - acc: 0.6221 - val_loss: 3.3513 - val_acc: 0.5154\n",
      "Epoch 43/100\n",
      "256/256 [==============================] - 114s 445ms/step - loss: 2.4036 - acc: 0.6262 - val_loss: 3.3353 - val_acc: 0.5157\n",
      "Epoch 44/100\n",
      "256/256 [==============================] - 114s 444ms/step - loss: 2.3864 - acc: 0.6300 - val_loss: 3.3226 - val_acc: 0.5173\n",
      "Epoch 45/100\n",
      "256/256 [==============================] - 114s 445ms/step - loss: 2.3688 - acc: 0.6335 - val_loss: 3.3244 - val_acc: 0.5183\n",
      "Epoch 46/100\n",
      "256/256 [==============================] - 114s 445ms/step - loss: 2.3518 - acc: 0.6372 - val_loss: 3.3285 - val_acc: 0.5199\n",
      "Epoch 47/100\n",
      "256/256 [==============================] - 114s 444ms/step - loss: 2.3343 - acc: 0.6411 - val_loss: 3.3180 - val_acc: 0.5227\n",
      "Epoch 48/100\n",
      "256/256 [==============================] - 114s 444ms/step - loss: 2.3196 - acc: 0.6443 - val_loss: 3.3037 - val_acc: 0.5235\n",
      "Epoch 49/100\n",
      "256/256 [==============================] - 114s 445ms/step - loss: 2.3039 - acc: 0.6474 - val_loss: 3.2950 - val_acc: 0.5237\n",
      "Epoch 50/100\n",
      "256/256 [==============================] - 114s 446ms/step - loss: 2.2896 - acc: 0.6504 - val_loss: 3.2980 - val_acc: 0.5248\n",
      "Epoch 51/100\n",
      "256/256 [==============================] - 114s 444ms/step - loss: 2.2732 - acc: 0.6530 - val_loss: 3.3224 - val_acc: 0.5216\n",
      "Epoch 52/100\n",
      "256/256 [==============================] - 114s 445ms/step - loss: 2.2591 - acc: 0.6558 - val_loss: 3.2959 - val_acc: 0.5234\n",
      "Epoch 53/100\n",
      "256/256 [==============================] - 114s 446ms/step - loss: 2.2462 - acc: 0.6585 - val_loss: 3.2949 - val_acc: 0.5259\n",
      "Epoch 54/100\n",
      "256/256 [==============================] - 114s 446ms/step - loss: 2.2319 - acc: 0.6615 - val_loss: 3.2896 - val_acc: 0.5240\n",
      "Epoch 55/100\n",
      "256/256 [==============================] - 114s 445ms/step - loss: 2.2185 - acc: 0.6636 - val_loss: 3.2685 - val_acc: 0.5270\n",
      "Epoch 56/100\n",
      "256/256 [==============================] - 114s 445ms/step - loss: 2.2053 - acc: 0.6661 - val_loss: 3.2709 - val_acc: 0.5276\n",
      "Epoch 57/100\n",
      "256/256 [==============================] - 114s 445ms/step - loss: 2.1933 - acc: 0.6683 - val_loss: 3.2824 - val_acc: 0.5295\n",
      "Epoch 58/100\n",
      "256/256 [==============================] - 114s 446ms/step - loss: 2.1809 - acc: 0.6702 - val_loss: 3.2513 - val_acc: 0.5315\n",
      "Epoch 59/100\n",
      "256/256 [==============================] - 114s 445ms/step - loss: 2.1694 - acc: 0.6722 - val_loss: 3.2372 - val_acc: 0.5328\n",
      "Epoch 60/100\n",
      "256/256 [==============================] - 114s 445ms/step - loss: 2.1574 - acc: 0.6740 - val_loss: 3.2572 - val_acc: 0.5303\n",
      "Epoch 61/100\n",
      "256/256 [==============================] - 116s 452ms/step - loss: 2.1439 - acc: 0.6764 - val_loss: 3.2517 - val_acc: 0.5325\n",
      "Epoch 62/100\n",
      "256/256 [==============================] - 114s 447ms/step - loss: 2.1348 - acc: 0.6784 - val_loss: 3.2529 - val_acc: 0.5325\n",
      "Epoch 63/100\n",
      "256/256 [==============================] - 114s 445ms/step - loss: 2.1252 - acc: 0.6799 - val_loss: 3.2505 - val_acc: 0.5307\n",
      "Epoch 64/100\n",
      "256/256 [==============================] - 114s 447ms/step - loss: 2.1140 - acc: 0.6818 - val_loss: 3.2526 - val_acc: 0.5332\n",
      "Epoch 65/100\n",
      "256/256 [==============================] - 114s 446ms/step - loss: 2.1044 - acc: 0.6835 - val_loss: 3.2404 - val_acc: 0.5335\n",
      "Epoch 66/100\n",
      "256/256 [==============================] - 115s 447ms/step - loss: 2.0950 - acc: 0.6855 - val_loss: 3.2486 - val_acc: 0.5315\n",
      "Epoch 67/100\n",
      "256/256 [==============================] - 114s 445ms/step - loss: 2.0847 - acc: 0.6875 - val_loss: 3.2432 - val_acc: 0.5316\n",
      "Epoch 68/100\n",
      "256/256 [==============================] - 114s 446ms/step - loss: 2.0757 - acc: 0.6891 - val_loss: 3.2529 - val_acc: 0.5328\n",
      "Epoch 69/100\n",
      "256/256 [==============================] - 114s 446ms/step - loss: 2.0677 - acc: 0.6901 - val_loss: 3.2527 - val_acc: 0.5308\n",
      "Epoch 70/100\n",
      "256/256 [==============================] - 114s 445ms/step - loss: 2.0575 - acc: 0.6921 - val_loss: 3.2435 - val_acc: 0.5325\n",
      "Epoch 71/100\n",
      "256/256 [==============================] - 114s 445ms/step - loss: 2.0502 - acc: 0.6933 - val_loss: 3.2514 - val_acc: 0.5315\n",
      "Epoch 72/100\n",
      "256/256 [==============================] - 114s 446ms/step - loss: 2.0423 - acc: 0.6942 - val_loss: 3.2342 - val_acc: 0.5340\n",
      "Epoch 73/100\n",
      "256/256 [==============================] - 114s 445ms/step - loss: 2.0330 - acc: 0.6955 - val_loss: 3.2295 - val_acc: 0.5333\n",
      "Epoch 74/100\n",
      "256/256 [==============================] - 114s 445ms/step - loss: 2.0258 - acc: 0.6969 - val_loss: 3.2375 - val_acc: 0.5319\n",
      "Epoch 75/100\n",
      "256/256 [==============================] - 114s 445ms/step - loss: 2.0185 - acc: 0.6979 - val_loss: 3.2381 - val_acc: 0.5324\n",
      "Epoch 76/100\n",
      "256/256 [==============================] - 114s 445ms/step - loss: 2.0108 - acc: 0.6996 - val_loss: 3.2386 - val_acc: 0.5328\n",
      "Epoch 77/100\n",
      "256/256 [==============================] - 114s 445ms/step - loss: 2.0033 - acc: 0.7008 - val_loss: 3.2243 - val_acc: 0.5336\n",
      "Epoch 78/100\n",
      "256/256 [==============================] - 114s 445ms/step - loss: 1.9974 - acc: 0.7017 - val_loss: 3.2156 - val_acc: 0.5350\n",
      "Epoch 79/100\n",
      "256/256 [==============================] - 114s 445ms/step - loss: 1.9909 - acc: 0.7027 - val_loss: 3.2194 - val_acc: 0.5324\n",
      "Epoch 80/100\n",
      "256/256 [==============================] - 114s 445ms/step - loss: 1.9845 - acc: 0.7039 - val_loss: 3.2534 - val_acc: 0.5315\n",
      "Epoch 81/100\n",
      "256/256 [==============================] - 114s 445ms/step - loss: 1.9775 - acc: 0.7051 - val_loss: 3.2281 - val_acc: 0.5338\n",
      "Epoch 82/100\n",
      "256/256 [==============================] - 114s 445ms/step - loss: 1.9714 - acc: 0.7062 - val_loss: 3.2435 - val_acc: 0.5315\n",
      "Epoch 83/100\n",
      "256/256 [==============================] - 114s 445ms/step - loss: 1.9642 - acc: 0.7076 - val_loss: 3.2348 - val_acc: 0.5323\n",
      "Epoch 84/100\n",
      "256/256 [==============================] - 114s 445ms/step - loss: 1.9587 - acc: 0.7084 - val_loss: 3.2106 - val_acc: 0.5341\n",
      "Epoch 85/100\n",
      "256/256 [==============================] - 113s 443ms/step - loss: 1.9532 - acc: 0.7095 - val_loss: 3.2295 - val_acc: 0.5331\n",
      "Epoch 86/100\n",
      "256/256 [==============================] - 114s 446ms/step - loss: 1.9471 - acc: 0.7109 - val_loss: 3.2404 - val_acc: 0.5330\n",
      "Epoch 87/100\n",
      "256/256 [==============================] - 114s 446ms/step - loss: 1.9421 - acc: 0.7113 - val_loss: 3.2128 - val_acc: 0.5355\n",
      "Epoch 88/100\n",
      "256/256 [==============================] - 114s 445ms/step - loss: 1.9361 - acc: 0.7127 - val_loss: 3.2096 - val_acc: 0.5347\n",
      "Epoch 89/100\n",
      "256/256 [==============================] - 114s 446ms/step - loss: 1.9315 - acc: 0.7132 - val_loss: 3.2297 - val_acc: 0.5314\n",
      "Epoch 90/100\n",
      "256/256 [==============================] - 114s 445ms/step - loss: 1.9266 - acc: 0.7141 - val_loss: 3.2263 - val_acc: 0.5354\n",
      "Epoch 91/100\n",
      "256/256 [==============================] - 114s 446ms/step - loss: 1.9201 - acc: 0.7151 - val_loss: 3.2330 - val_acc: 0.5345\n",
      "Epoch 92/100\n",
      "256/256 [==============================] - 114s 446ms/step - loss: 1.9160 - acc: 0.7156 - val_loss: 3.2312 - val_acc: 0.5337\n",
      "Epoch 93/100\n",
      "256/256 [==============================] - 114s 445ms/step - loss: 1.9109 - acc: 0.7170 - val_loss: 3.2301 - val_acc: 0.5368\n",
      "Epoch 94/100\n",
      "256/256 [==============================] - 114s 445ms/step - loss: 1.9067 - acc: 0.7173 - val_loss: 3.2119 - val_acc: 0.5375\n",
      "Epoch 95/100\n",
      "256/256 [==============================] - 114s 446ms/step - loss: 1.8997 - acc: 0.7186 - val_loss: 3.2326 - val_acc: 0.5355\n",
      "Epoch 96/100\n",
      "256/256 [==============================] - 114s 446ms/step - loss: 1.8972 - acc: 0.7189 - val_loss: 3.2188 - val_acc: 0.5375\n",
      "Epoch 97/100\n",
      "256/256 [==============================] - 114s 445ms/step - loss: 1.8932 - acc: 0.7194 - val_loss: 3.2336 - val_acc: 0.5354\n",
      "Epoch 98/100\n",
      "256/256 [==============================] - 114s 444ms/step - loss: 1.8872 - acc: 0.7203 - val_loss: 3.2366 - val_acc: 0.5359\n",
      "Epoch 99/100\n",
      "256/256 [==============================] - 114s 445ms/step - loss: 1.8835 - acc: 0.7211 - val_loss: 3.2241 - val_acc: 0.5365\n",
      "Epoch 100/100\n",
      "256/256 [==============================] - 114s 445ms/step - loss: 1.8787 - acc: 0.7213 - val_loss: 3.2423 - val_acc: 0.5347\n"
     ]
    }
   ],
   "source": [
    "train_samples = len(X_train)\n",
    "val_samples = len(X_test)\n",
    "batch_size = 128\n",
    "epochs = 100\n",
    "\n",
    "history = model.fit_generator(generator = generate_batch(X_train, y_train, batch_size = batch_size),\n",
    "                    steps_per_epoch = train_samples//batch_size,\n",
    "                    epochs=epochs,\n",
    "                    validation_data = generate_batch(X_test, y_test, batch_size = batch_size),\n",
    "                    validation_steps = val_samples//batch_size)"
   ]
  },
  {
   "cell_type": "code",
   "execution_count": 0,
   "metadata": {
    "colab": {},
    "colab_type": "code",
    "id": "3TkyygdyuPmT"
   },
   "outputs": [],
   "source": [
    "# save weights\n",
    "model.save_weights('nmt_eng_mar_weights.h5')"
   ]
  },
  {
   "cell_type": "code",
   "execution_count": 0,
   "metadata": {
    "colab": {
     "base_uri": "https://localhost:8080/",
     "height": 676
    },
    "colab_type": "code",
    "executionInfo": {
     "elapsed": 4648,
     "status": "ok",
     "timestamp": 1571411894333,
     "user": {
      "displayName": "Saurabh Deshmukh",
      "photoUrl": "",
      "userId": "15227258056082329064"
     },
     "user_tz": -330
    },
    "id": "Jief2AZawPz0",
    "outputId": "7a6f18db-a775-49fe-92cf-a95447a91511"
   },
   "outputs": [
    {
     "data": {
      "image/png": "[encoded data removed]",
      "text/plain": [
       "<Figure size 576x792 with 2 Axes>"
      ]
     },
     "metadata": {
      "tags": []
     },
     "output_type": "display_data"
    }
   ],
   "source": [
    "# plot the results\n",
    "plt.figure(1, figsize=(8, 11))\n",
    "\n",
    "# summarize history for accuracy\n",
    "\n",
    "plt.subplot(211)\n",
    "plt.plot(history.history['acc'])\n",
    "plt.plot(history.history['val_acc'])\n",
    "plt.title('model accuracy')\n",
    "plt.ylabel('accuracy')\n",
    "plt.xlabel('epoch')\n",
    "\n",
    "# summarize history for loss\n",
    "\n",
    "plt.subplot(212)\n",
    "plt.plot(history.history['loss'])\n",
    "plt.plot(history.history['val_loss'])\n",
    "plt.title('model loss')\n",
    "plt.ylabel('loss')\n",
    "plt.xlabel('epoch')\n",
    "plt.show()"
   ]
  },
  {
   "cell_type": "markdown",
   "metadata": {
    "colab_type": "text",
    "id": "jsS4hPH8-E-D"
   },
   "source": [
    "### load model and make predictions"
   ]
  },
  {
   "cell_type": "code",
   "execution_count": 25,
   "metadata": {
    "colab": {
     "base_uri": "https://localhost:8080/",
     "height": 241
    },
    "colab_type": "code",
    "executionInfo": {
     "elapsed": 5681,
     "status": "ok",
     "timestamp": 1571420951289,
     "user": {
      "displayName": "Saurabh Deshmukh",
      "photoUrl": "",
      "userId": "15227258056082329064"
     },
     "user_tz": -330
    },
    "id": "MfrwYzkB-8Oe",
    "outputId": "b5524f05-39c6-426c-c95f-fd445fcf1e8b"
   },
   "outputs": [
    {
     "name": "stdout",
     "output_type": "stream",
     "text": [
      "WARNING:tensorflow:From /usr/local/lib/python3.6/dist-packages/keras/backend/tensorflow_backend.py:190: The name tf.get_default_session is deprecated. Please use tf.compat.v1.get_default_session instead.\n",
      "\n",
      "WARNING:tensorflow:From /usr/local/lib/python3.6/dist-packages/keras/backend/tensorflow_backend.py:197: The name tf.ConfigProto is deprecated. Please use tf.compat.v1.ConfigProto instead.\n",
      "\n",
      "WARNING:tensorflow:From /usr/local/lib/python3.6/dist-packages/keras/backend/tensorflow_backend.py:203: The name tf.Session is deprecated. Please use tf.compat.v1.Session instead.\n",
      "\n",
      "WARNING:tensorflow:From /usr/local/lib/python3.6/dist-packages/keras/backend/tensorflow_backend.py:207: The name tf.global_variables is deprecated. Please use tf.compat.v1.global_variables instead.\n",
      "\n",
      "WARNING:tensorflow:From /usr/local/lib/python3.6/dist-packages/keras/backend/tensorflow_backend.py:216: The name tf.is_variable_initialized is deprecated. Please use tf.compat.v1.is_variable_initialized instead.\n",
      "\n",
      "WARNING:tensorflow:From /usr/local/lib/python3.6/dist-packages/keras/backend/tensorflow_backend.py:223: The name tf.variables_initializer is deprecated. Please use tf.compat.v1.variables_initializer instead.\n",
      "\n"
     ]
    }
   ],
   "source": [
    "model.load_weights('nmt_eng_mar_weights.h5')"
   ]
  },
  {
   "cell_type": "code",
   "execution_count": 0,
   "metadata": {
    "colab": {},
    "colab_type": "code",
    "id": "wjawfQq46UG9"
   },
   "outputs": [],
   "source": [
    "# Encode the input sequence to get the \"thought vectors\"\n",
    "encoder_model = Model(encoder_inputs, encoder_states)\n",
    "\n",
    "# Decoder setup\n",
    "# Below tensors will hold the states of the previous time step\n",
    "decoder_state_input_h = Input(shape=(latent_dim,))\n",
    "decoder_state_input_c = Input(shape=(latent_dim,))\n",
    "decoder_states_inputs = [decoder_state_input_h, decoder_state_input_c]\n",
    "\n",
    "dec_emb2= dec_emb_layer(decoder_inputs) # Get the embeddings of the decoder sequence\n",
    "\n",
    "# To predict the next word in the sequence, set the initial states to the states from the previous time step\n",
    "decoder_outputs2, state_h2, state_c2 = decoder_lstm(dec_emb2, initial_state=decoder_states_inputs)\n",
    "decoder_states2 = [state_h2, state_c2]\n",
    "decoder_outputs2 = decoder_dense(decoder_outputs2) # A dense softmax layer to generate prob dist. over the target vocabulary\n",
    "\n",
    "# Final decoder model\n",
    "decoder_model = Model(\n",
    "    [decoder_inputs] + decoder_states_inputs,\n",
    "    [decoder_outputs2] + decoder_states2)"
   ]
  },
  {
   "cell_type": "code",
   "execution_count": 0,
   "metadata": {
    "colab": {},
    "colab_type": "code",
    "id": "e-CHTESm-blF"
   },
   "outputs": [],
   "source": [
    "def decode_sequence(input_seq):\n",
    "    # Encode the input as state vectors.\n",
    "    states_value = encoder_model.predict(input_seq)\n",
    "    # Generate empty target sequence of length 1.\n",
    "    target_seq = np.zeros((1,1))\n",
    "    # Populate the first character of target sequence with the start character.\n",
    "    target_seq[0, 0] = target_token_index['START_']\n",
    "\n",
    "    # Sampling loop for a batch of sequences\n",
    "    # (to simplify, here we assume a batch of size 1).\n",
    "    stop_condition = False\n",
    "    decoded_sentence = ''\n",
    "    while not stop_condition:\n",
    "        output_tokens, h, c = decoder_model.predict([target_seq] + states_value)\n",
    "\n",
    "        # Sample a token\n",
    "        sampled_token_index = np.argmax(output_tokens[0, -1, :])\n",
    "        sampled_char = reverse_target_word_index[sampled_token_index]\n",
    "        decoded_sentence += ' '+sampled_char\n",
    "\n",
    "        # Exit condition: either hit max length\n",
    "        # or find stop character.\n",
    "        if (sampled_char == '_END' or\n",
    "           len(decoded_sentence) > 50):\n",
    "            stop_condition = True\n",
    "\n",
    "        # Update the target sequence (of length 1).\n",
    "        target_seq = np.zeros((1,1))\n",
    "        target_seq[0, 0] = sampled_token_index\n",
    "\n",
    "        # Update states\n",
    "        states_value = [h, c]\n",
    "\n",
    "    return decoded_sentence"
   ]
  },
  {
   "cell_type": "code",
   "execution_count": 0,
   "metadata": {
    "colab": {},
    "colab_type": "code",
    "id": "k9QoBqP7-sHP"
   },
   "outputs": [],
   "source": [
    "train_gen = generate_batch(X_train, y_train, batch_size = 1)\n",
    "k=-1"
   ]
  },
  {
   "cell_type": "code",
   "execution_count": 34,
   "metadata": {
    "colab": {
     "base_uri": "https://localhost:8080/",
     "height": 1000
    },
    "colab_type": "code",
    "executionInfo": {
     "elapsed": 1821,
     "status": "ok",
     "timestamp": 1571421130331,
     "user": {
      "displayName": "Saurabh Deshmukh",
      "photoUrl": "",
      "userId": "15227258056082329064"
     },
     "user_tz": -330
    },
    "id": "Z4o3mUzf-vSl",
    "outputId": "9759bc1e-89ac-4fc9-8f4e-a8d42590fac2"
   },
   "outputs": [
    {
     "name": "stdout",
     "output_type": "stream",
     "text": [
      "Input English sentence: dont open those windows\n",
      "Actual Marathi Translation:  त्या खिडक्या उघडू नये \n",
      "Predicted Marathi Translation:  ते जबाबदार आहे \n",
      "--------------------------------------------------\n",
      "Input English sentence: lets go see tom now\n",
      "Actual Marathi Translation:  चल टॉमला भेटू या \n",
      "Predicted Marathi Translation:  तुला बॉस्टनमध्ये नका चालू राहिला \n",
      "--------------------------------------------------\n",
      "Input English sentence: they named the baby momotarou\n",
      "Actual Marathi Translation:  त्यांनी बाळाचं नाव मोमोतारोउ असं ठेवलं \n",
      "Predicted Marathi Translation:  इथे पुस्तक आहे \n",
      "--------------------------------------------------\n",
      "Input English sentence: this isnt what i ordered\n",
      "Actual Marathi Translation:  मी जे मागवलं होतं ते हे नाहीये \n",
      "Predicted Marathi Translation:  तिथे गरम आहे का \n",
      "--------------------------------------------------\n",
      "Input English sentence: she is able to skate\n",
      "Actual Marathi Translation:  ती स्केट करू शकते \n",
      "Predicted Marathi Translation:  मेरी वर्गात मुलगी नाहीये \n",
      "--------------------------------------------------\n",
      "Input English sentence: think for a moment\n",
      "Actual Marathi Translation:  क्षणभर विचार कर \n",
      "Predicted Marathi Translation:  तू पुस्तक वाचलं नाहीस \n",
      "--------------------------------------------------\n",
      "Input English sentence: my brothers guitar is new\n",
      "Actual Marathi Translation:  दादाची गिटार नवीन आहे \n",
      "Predicted Marathi Translation:  मी माझ्या शकतो ते लांब माझ्या काळजी आहे \n",
      "--------------------------------------------------\n",
      "Input English sentence: tom still cant read\n",
      "Actual Marathi Translation:  टॉमला अजूनही वाचता येत नाही \n",
      "Predicted Marathi Translation:  टॉमने मेरीला मारलं \n",
      "--------------------------------------------------\n",
      "Input English sentence: tom can stay with us\n",
      "Actual Marathi Translation:  टॉम आमच्याबरोबर राहू शकतो \n",
      "Predicted Marathi Translation:  नवीन आम्ही नाही आठवड्यात मी काही अमेरिकन विकत घ्य\n",
      "--------------------------------------------------\n",
      "Input English sentence: im responsible for that\n",
      "Actual Marathi Translation:  त्यासाठी मी जबाबदार आहे \n",
      "Predicted Marathi Translation:  तुझा भाऊ कोण आहे \n",
      "--------------------------------------------------\n",
      "Input English sentence: how many calories are in  grams of butter\n",
      "Actual Marathi Translation:   ग्राम बटरमध्ये किती कॅलोरी असतात \n",
      "Predicted Marathi Translation:  टॉम नक्की किती तुला तीन वेळा आवडत नाहीत \n",
      "--------------------------------------------------\n",
      "Input English sentence: the book is here\n",
      "Actual Marathi Translation:  पुस्तक इथे आहे \n",
      "Predicted Marathi Translation:  जपानमध्ये तुला इंग्रजी म्हणाला \n",
      "--------------------------------------------------\n",
      "Input English sentence: is it hot over there\n",
      "Actual Marathi Translation:  तिथे गरमी आहे का \n",
      "Predicted Marathi Translation:  आज बरं आहेत \n",
      "--------------------------------------------------\n",
      "Input English sentence: mary isnt the only girl in the classroom\n",
      "Actual Marathi Translation:  मेरी वर्गातली एकमात्र मुलगी नाहीये \n",
      "Predicted Marathi Translation:  मी सफरचंद पीत \n",
      "--------------------------------------------------\n",
      "Input English sentence: didnt you read the book\n",
      "Actual Marathi Translation:  तू ते पुस्तक वाचलं नाहीस का \n",
      "Predicted Marathi Translation:  तिचं वजन कमी हे माहीत आहे \n",
      "--------------------------------------------------\n",
      "Input English sentence: i take care of my grandfather\n",
      "Actual Marathi Translation:  मी माझ्या आजोबांची काळजी घेतो \n",
      "Predicted Marathi Translation:  तुझ्या कोणी इंग्रजी व वडील काय केलं \n",
      "--------------------------------------------------\n",
      "Input English sentence: tom made pancakes for mary\n",
      "Actual Marathi Translation:  टॉमने मेरीसाठी पॅनकेक बनवले \n",
      "Predicted Marathi Translation:  टॉम आपल्या ओळखतो \n",
      "--------------------------------------------------\n",
      "Input English sentence: sooner or later well have to buy a new tv since the tv we have now is a very old model\n",
      "Actual Marathi Translation:  कधीनाकधी तरी आपल्याला नवीन टीव्ही विकत घ्यायलाच लागेल कारण आपल्याकडे सध्याचा जो टीव्ही आहे तो खूप जुना मॉडेल आहे \n",
      "Predicted Marathi Translation:  टॉम काहीतरी आहे \n",
      "--------------------------------------------------\n",
      "Input English sentence: who is your brother\n",
      "Actual Marathi Translation:  तुझा भाऊ कोण आहे \n",
      "Predicted Marathi Translation:  खूपच छोटा होता \n",
      "--------------------------------------------------\n"
     ]
    }
   ],
   "source": [
    "for k in range(1,20):\n",
    "  (input_seq, actual_output), _ = next(train_gen)\n",
    "  decoded_sentence = decode_sequence(input_seq)\n",
    "  print('Input English sentence:', X_train[k:k+1].values[0])\n",
    "  print('Actual Marathi Translation:', y_train[k:k+1].values[0][6:-4])\n",
    "  print('Predicted Marathi Translation:', decoded_sentence[:-4])\n",
    "  print(\"-\"*50)"
   ]
  },
  {
   "cell_type": "code",
   "execution_count": 0,
   "metadata": {
    "colab": {},
    "colab_type": "code",
    "id": "PwETcp_r_P-w"
   },
   "outputs": [],
   "source": []
  }
 ],
 "metadata": {
  "accelerator": "GPU",
  "colab": {
   "collapsed_sections": [],
   "name": "English - Marathi NMT.ipynb",
   "provenance": []
  },
  "kernelspec": {
   "display_name": "Python 3",
   "language": "python",
   "name": "python3"
  },
  "language_info": {
   "codemirror_mode": {
    "name": "ipython",
    "version": 3
   },
   "file_extension": ".py",
   "mimetype": "text/x-python",
   "name": "python",
   "nbconvert_exporter": "python",
   "pygments_lexer": "ipython3",
   "version": "3.6.8"
  }
 },
 "nbformat": 4,
 "nbformat_minor": 1
}
